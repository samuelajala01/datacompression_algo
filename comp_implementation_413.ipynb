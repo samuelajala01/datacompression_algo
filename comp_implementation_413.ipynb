{
  "nbformat": 4,
  "nbformat_minor": 0,
  "metadata": {
    "colab": {
      "provenance": [],
      "authorship_tag": "ABX9TyOth3d/nm/ImS/ahUElvTPd",
      "include_colab_link": true
    },
    "kernelspec": {
      "name": "python3",
      "display_name": "Python 3"
    },
    "language_info": {
      "name": "python"
    }
  },
  "cells": [
    {
      "cell_type": "markdown",
      "metadata": {
        "id": "view-in-github",
        "colab_type": "text"
      },
      "source": [
        "<a href=\"https://colab.research.google.com/github/samuelajala01/datacompression_algo/blob/main/comp_implementation_413.ipynb\" target=\"_parent\"><img src=\"https://colab.research.google.com/assets/colab-badge.svg\" alt=\"Open In Colab\"/></a>"
      ]
    },
    {
      "cell_type": "markdown",
      "source": [
        "Shannon-Fano"
      ],
      "metadata": {
        "id": "eirnPreSVACE"
      }
    },
    {
      "cell_type": "code",
      "source": [
        "import math\n",
        "\n",
        "def shannon_fano(probabilities):\n",
        "\n",
        "    sorted_probs = sorted(probabilities, reverse=True)\n",
        "\n",
        "    codewords = {}\n",
        "\n",
        "    # Recursive function to assign codewords\n",
        "    def assign_codes(symbols, current_code):\n",
        "        if len(symbols) == 1:\n",
        "\n",
        "            codewords[symbols[0]] = current_code\n",
        "            return\n",
        "\n",
        "        total_prob = sum(symbols)\n",
        "\n",
        "        # Find the split point where cumulative probability is closest to half\n",
        "        cumulative_prob = 0\n",
        "        split_index = 0\n",
        "        min_diff = float('inf')\n",
        "        for i, prob in enumerate(symbols):\n",
        "            cumulative_prob += prob\n",
        "            diff = abs(cumulative_prob - total_prob / 2)\n",
        "            if diff < min_diff:\n",
        "                min_diff = diff\n",
        "                split_index = i\n",
        "\n",
        "        # Assign '0' to the left group and '1' to the right group\n",
        "        assign_codes(symbols[:split_index + 1], current_code + '0')  # Left group\n",
        "        assign_codes(symbols[split_index + 1:], current_code + '1')  # Right group\n",
        "\n",
        "\n",
        "    assign_codes(sorted_probs, '')\n",
        "\n",
        "    # Return codewords in the order of the original probabilities\n",
        "    return [codewords[prob] for prob in probabilities]\n"
      ],
      "metadata": {
        "id": "poB1HmGcVF0A"
      },
      "execution_count": null,
      "outputs": []
    },
    {
      "cell_type": "code",
      "source": [
        "\n",
        "# Function to calculate entropy\n",
        "def shannon_entropy(probabilities):\n",
        "    s_entropy = 0\n",
        "    for prob in probabilities:\n",
        "        if prob > 0:\n",
        "            s_entropy += prob * math.log2(1/prob)\n",
        "    return s_entropy\n",
        "\n",
        "\n",
        "# Function to calculate average bits per message\n",
        "def shannon_average_bits(probabilities, codes):\n",
        "    s_avg_bits = 0\n",
        "    for i, prob in enumerate(probabilities):\n",
        "        s_avg_bits += prob * len(codes[i])\n",
        "    return s_avg_bits\n",
        "\n",
        "\n",
        "# Function to calculate efficiency\n",
        "def shannon_efficiency(entropy, avg_bits):\n",
        "    return s_entropy / s_avg_bits\n",
        "\n",
        "\n",
        "# Function to calculate redundancy\n",
        "def shannon_redundancy(efficiency):\n",
        "    return 1 - s_efficiency\n"
      ],
      "metadata": {
        "id": "IJzk24O7VYR1"
      },
      "execution_count": null,
      "outputs": []
    },
    {
      "cell_type": "code",
      "source": [
        "# Input probabilities\n",
        "probabilities = [0.4, 0.2, 0.12, 0.08, 0.08, 0.08, 0.04]\n",
        "\n",
        "# Generate Shannon-Fano codewords\n",
        "codes = shannon_fano(probabilities)\n",
        "\n",
        "# Print codewords\n",
        "print(\"\\nShannon-Fano Codewords:\")\n",
        "for i, code in enumerate(codes):\n",
        "    print(f\"Symbol {i}: Probability = {probabilities[i]}, Codeword = {code}\")\n",
        "\n"
      ],
      "metadata": {
        "colab": {
          "base_uri": "https://localhost:8080/"
        },
        "id": "bNT7zq8jWIj6",
        "outputId": "e92c33a0-df8d-4cc5-95fd-734d421c5d29"
      },
      "execution_count": null,
      "outputs": [
        {
          "output_type": "stream",
          "name": "stdout",
          "text": [
            "\n",
            "Shannon-Fano Codewords:\n",
            "Symbol 0: Probability = 0.4, Codeword = 0\n",
            "Symbol 1: Probability = 0.2, Codeword = 100\n",
            "Symbol 2: Probability = 0.12, Codeword = 101\n",
            "Symbol 3: Probability = 0.08, Codeword = 1110\n",
            "Symbol 4: Probability = 0.08, Codeword = 1110\n",
            "Symbol 5: Probability = 0.08, Codeword = 1110\n",
            "Symbol 6: Probability = 0.04, Codeword = 1111\n"
          ]
        }
      ]
    },
    {
      "cell_type": "code",
      "source": [
        "# Calculate metrics\n",
        "s_entropy = shannon_entropy(probabilities)\n",
        "s_avg_bits = shannon_average_bits(probabilities, codes)\n",
        "s_efficiency = shannon_efficiency(s_entropy, s_avg_bits)\n",
        "s_redundancy = shannon_redundancy(s_efficiency)"
      ],
      "metadata": {
        "id": "UgU9wAtwaDop"
      },
      "execution_count": null,
      "outputs": []
    },
    {
      "cell_type": "code",
      "source": [
        "# Print metrics\n",
        "print(\"\\nShannon Metrics:\")\n",
        "print(f\"Entropy (H): {s_entropy:.4f}\")\n",
        "print(f\"Average Bits per Message (L): {s_avg_bits:.4f} bits\")\n",
        "print(f\"Code Efficiency: {s_efficiency:.4f}\")\n",
        "print(f\"Redundancy: {s_redundancy:.4f}\")"
      ],
      "metadata": {
        "colab": {
          "base_uri": "https://localhost:8080/"
        },
        "id": "XFRRmaQ7WXSJ",
        "outputId": "b49764f7-bca3-4db8-bc3d-d2ea7c09fa83"
      },
      "execution_count": null,
      "outputs": [
        {
          "output_type": "stream",
          "name": "stdout",
          "text": [
            "\n",
            "Shannon Metrics:\n",
            "Entropy (H): 2.4205\n",
            "Average Bits per Message (L): 2.4800 bits\n",
            "Code Efficiency: 0.9760\n",
            "Redundancy: 0.0240\n"
          ]
        }
      ]
    },
    {
      "cell_type": "code",
      "source": [],
      "metadata": {
        "id": "Jry4KcOeaGBv"
      },
      "execution_count": null,
      "outputs": []
    },
    {
      "cell_type": "markdown",
      "source": [
        "Huffman Computational Method"
      ],
      "metadata": {
        "id": "60HrwRaAWYMx"
      }
    },
    {
      "cell_type": "code",
      "execution_count": null,
      "metadata": {
        "id": "TSodjw1D0AGS"
      },
      "outputs": [],
      "source": [
        "\n",
        "def huffman_coding(probabilities):\n",
        "    n = len(probabilities)\n",
        "    codes = [''] * n  # Initialize codes for each symbol\n",
        "\n",
        "    nodes = [[prob, [i]] for i, prob in enumerate(probabilities)]\n",
        "\n",
        "    while len(nodes) > 1:\n",
        "\n",
        "        nodes.sort(key=lambda x: x[0])\n",
        "\n",
        "\n",
        "        first = nodes.pop(0)\n",
        "        second = nodes.pop(0)\n",
        "\n",
        "\n",
        "        for symbol in first[1]:\n",
        "            codes[symbol] = '0' + codes[symbol]\n",
        "        for symbol in second[1]:\n",
        "            codes[symbol] = '1' + codes[symbol]\n",
        "\n",
        "        # Combine the two nodes\n",
        "        combined_prob = first[0] + second[0]\n",
        "        combined_symbols = first[1] + second[1]\n",
        "        nodes.append([combined_prob, combined_symbols])\n",
        "\n",
        "    # Return the codes in original order\n",
        "    return codes"
      ]
    },
    {
      "cell_type": "code",
      "source": [
        "print(codes)"
      ],
      "metadata": {
        "colab": {
          "base_uri": "https://localhost:8080/"
        },
        "id": "O5iIIIKFO86L",
        "outputId": "288c1d48-47f6-4000-f492-54a356ebc058"
      },
      "execution_count": null,
      "outputs": [
        {
          "output_type": "stream",
          "name": "stdout",
          "text": [
            "['0', '100', '101', '1110', '1110', '1110', '1111']\n"
          ]
        }
      ]
    },
    {
      "cell_type": "markdown",
      "source": [],
      "metadata": {
        "id": "VWXrZfqGU9Zm"
      }
    },
    {
      "cell_type": "code",
      "source": [
        "import math\n",
        "\n",
        "def huffman_entropy(probabilities):\n",
        "    entropy = 0\n",
        "    for prob in probabilities:\n",
        "        if prob > 0:\n",
        "            entropy += prob * math.log2(1/prob)\n",
        "    return entropy\n",
        "\n",
        "probabilities = [0.4, 0.2, 0.12, 0.08, 0.08, 0.08, 0.04]\n",
        "entropy = huffman_entropy(probabilities)\n",
        "print(f\"Entropy: {entropy:.4f} bits\")"
      ],
      "metadata": {
        "colab": {
          "base_uri": "https://localhost:8080/"
        },
        "id": "A6fVgvyuOeY_",
        "outputId": "5288cc12-1ed0-4cfd-df2c-e97a63e8703e"
      },
      "execution_count": null,
      "outputs": [
        {
          "output_type": "stream",
          "name": "stdout",
          "text": [
            "Entropy: 2.4205 bits\n"
          ]
        }
      ]
    },
    {
      "cell_type": "code",
      "source": [
        "def huffman_average_bits(probabilities, codes):\n",
        "    avg_bits = 0\n",
        "    for i, prob in enumerate(probabilities):\n",
        "        avg_bits += prob * len(codes[i])\n",
        "    return avg_bits\n",
        "\n",
        "avg_bits = huffman_average_bits(probabilities, codes)\n",
        "print(avg_bits)"
      ],
      "metadata": {
        "colab": {
          "base_uri": "https://localhost:8080/"
        },
        "id": "bP3oPwFtOfvc",
        "outputId": "4aced296-e203-45be-9ba9-5783907a1d9d"
      },
      "execution_count": null,
      "outputs": [
        {
          "output_type": "stream",
          "name": "stdout",
          "text": [
            "2.48\n"
          ]
        }
      ]
    },
    {
      "cell_type": "code",
      "source": [
        "def huffman_efficiency(entropy, avg_bits):\n",
        "    return entropy / avg_bits\n",
        "\n",
        "efficiency = huffman_efficiency(entropy, avg_bits)\n",
        "print(efficiency)"
      ],
      "metadata": {
        "colab": {
          "base_uri": "https://localhost:8080/"
        },
        "id": "tpZ5dd_ZOl4A",
        "outputId": "530a758f-de27-4c09-d992-aa97fcfcc9ee"
      },
      "execution_count": null,
      "outputs": [
        {
          "output_type": "stream",
          "name": "stdout",
          "text": [
            "0.9760096099821647\n"
          ]
        }
      ]
    },
    {
      "cell_type": "code",
      "source": [
        "def huffman_redundancy(efficiency):\n",
        "    return 1 - efficiency\n",
        "\n",
        "redundancy = huffman_redundancy(efficiency)\n",
        "print(redundancy)"
      ],
      "metadata": {
        "colab": {
          "base_uri": "https://localhost:8080/"
        },
        "id": "563Y8EWsOqH6",
        "outputId": "a15b94fc-c61f-41dd-9549-db4ca9b5ca59"
      },
      "execution_count": null,
      "outputs": [
        {
          "output_type": "stream",
          "name": "stdout",
          "text": [
            "0.023990390017835317\n"
          ]
        }
      ]
    },
    {
      "cell_type": "markdown",
      "source": [],
      "metadata": {
        "id": "5MAmyRVyU5BO"
      }
    }
  ]
}